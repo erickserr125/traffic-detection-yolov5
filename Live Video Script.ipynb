{
 "cells": [
  {
   "cell_type": "code",
   "execution_count": 1,
   "id": "5a455004",
   "metadata": {},
   "outputs": [
    {
     "name": "stderr",
     "output_type": "stream",
     "text": [
      "/home/erick/.local/lib/python3.8/site-packages/pandas/core/computation/expressions.py:20: UserWarning: Pandas requires version '2.7.3' or newer of 'numexpr' (version '2.7.1' currently installed).\n",
      "  from pandas.core.computation.check import NUMEXPR_INSTALLED\n",
      "YOLOv5 🚀 b62ae3263 Python-3.8.10 torch-1.13.0+cu117 CPU\n",
      "\n",
      "Fusing layers... \n",
      "Model summary: 212 layers, 20893344 parameters, 0 gradients\n",
      "Adding AutoShape... \n"
     ]
    }
   ],
   "source": [
    "\"\"\"\n",
    "In this script, we will\n",
    "\"\"\"\n",
    "\n",
    "import torch \n",
    "from PIL import Image, ImageDraw, ImageFont\n",
    "import pandas as pd\n",
    "from sort import sort\n",
    "from time import time\n",
    "from collections import defaultdict\n",
    "import threading\n",
    "# import required libraries\n",
    "from vidgear.gears import CamGear\n",
    "from vidgear.gears import WriteGear\n",
    "import cv2\n",
    "\"\"\"\n",
    "Load the model with a certain confidence threshold (TBD)\n",
    "\"\"\"\n",
    "model = torch.hub.load('.','custom','best.pt',source='local')\n",
    "model.conf = .4 #Minimum .5 confidence threshold"
   ]
  },
  {
   "cell_type": "code",
   "execution_count": 9,
   "id": "aad68d08",
   "metadata": {},
   "outputs": [
    {
     "name": "stderr",
     "output_type": "stream",
     "text": [
      "\u001b[32m22:21:33\u001b[0m :: \u001b[1;35m   CamGear   \u001b[0m :: \u001b[1;33m DEBUG  \u001b[0m :: \u001b[1;37mEnabling Threaded Queue Mode for the current video source!\u001b[0m\n"
     ]
    }
   ],
   "source": [
    "\"\"\"\n",
    "Initializing values for tracking and video capture:\n",
    "\"\"\"\n",
    "#Store tracking info per video\n",
    "tracker=sort.Sort() \n",
    "ids = defaultdict(set)\n",
    "#.ttf file, font-size\n",
    "myFont = ImageFont.truetype('ostrich-regular.ttf', 15)\n",
    "# define and open video source\n",
    "stream = CamGear(source=\"/dev/video0\", logging=True).start()\n",
    "\n",
    "# [WARNING] Change your YouTube-Live Stream Key here:\n",
    "YOUTUBE_STREAM_KEY = \"1szm-jm2t-m45s-ygw9-1rbx\""
   ]
  },
  {
   "cell_type": "code",
   "execution_count": 10,
   "id": "30d66027",
   "metadata": {},
   "outputs": [
    {
     "name": "stderr",
     "output_type": "stream",
     "text": [
      "\u001b[32m22:21:34\u001b[0m :: \u001b[1;35m   Helper    \u001b[0m :: \u001b[1;31m\u001b[2;33mWARNING \u001b[0m :: \u001b[1;37mSpecified directory `/home/erick/Documents/college/class/EE498/traffic-detection-yolov5/rtmp:/a.rtmp.youtube.com/live2` doesn't exists or valid.\u001b[0m\n",
      "\u001b[32m22:21:34\u001b[0m :: \u001b[1;35m  WriteGear  \u001b[0m :: \u001b[1;36m  INFO  \u001b[0m :: \u001b[1;37m`rtmp://a.rtmp.youtube.com/live2/1szm-jm2t-m45s-ygw9-1rbx` isn't a valid system path or directory. Skipped!\u001b[0m\n",
      "\u001b[32m22:21:34\u001b[0m :: \u001b[1;35m  WriteGear  \u001b[0m :: \u001b[1;33m DEBUG  \u001b[0m :: \u001b[1;37mOutput Parameters: `{'-clones': ['-f', 'lavfi', '-i', 'anullsrc'], '-vcodec': 'libx264', '-preset': 'medium', '-b:v': '4500k', '-bufsize': '512k', '-pix_fmt': 'yuv420p', '-f': 'flv'}`\u001b[0m\n",
      "\u001b[32m22:21:34\u001b[0m :: \u001b[1;35m  WriteGear  \u001b[0m :: \u001b[1;33m DEBUG  \u001b[0m :: \u001b[1;37mCompression Mode is enabled therefore checking for valid FFmpeg executable.\u001b[0m\n",
      "\u001b[32m22:21:34\u001b[0m :: \u001b[1;35m   Helper    \u001b[0m :: \u001b[1;33m DEBUG  \u001b[0m :: \u001b[1;37mFinal FFmpeg Path: ffmpeg\u001b[0m\n",
      "\u001b[32m22:21:34\u001b[0m :: \u001b[1;35m   Helper    \u001b[0m :: \u001b[1;33m DEBUG  \u001b[0m :: \u001b[1;37mFFmpeg validity Test Passed!\u001b[0m\n",
      "\u001b[32m22:21:34\u001b[0m :: \u001b[1;35m   Helper    \u001b[0m :: \u001b[1;33m DEBUG  \u001b[0m :: \u001b[1;37mFound valid FFmpeg Version: `b'4.2.7-0ubuntu0.1'` installed on this system\u001b[0m\n",
      "\u001b[32m22:21:34\u001b[0m :: \u001b[1;35m  WriteGear  \u001b[0m :: \u001b[1;33m DEBUG  \u001b[0m :: \u001b[1;37mFound valid FFmpeg executable: `ffmpeg`.\u001b[0m\n",
      "\u001b[32m22:21:34\u001b[0m :: \u001b[1;35m   Helper    \u001b[0m :: \u001b[1;33m DEBUG  \u001b[0m :: \u001b[1;37mURL scheme `rtmp` is supported by FFmpeg.\u001b[0m\n",
      "\u001b[32m22:21:34\u001b[0m :: \u001b[1;35m  WriteGear  \u001b[0m :: \u001b[1;33m DEBUG  \u001b[0m :: \u001b[1;37mURL:`rtmp://a.rtmp.youtube.com/live2/1szm-jm2t-m45s-ygw9-1rbx` is valid and successfully configured for streaming.\u001b[0m\n",
      "\u001b[32m22:21:34\u001b[0m :: \u001b[1;35m  WriteGear  \u001b[0m :: \u001b[1;33m DEBUG  \u001b[0m :: \u001b[1;37mCompression Mode with FFmpeg backend is configured properly.\u001b[0m\n"
     ]
    }
   ],
   "source": [
    "# define required FFmpeg parameters for your writer\n",
    "output_params = {\n",
    "    \"-clones\": [\"-f\", \"lavfi\", \"-i\", \"anullsrc\"],\n",
    "    \"-vcodec\": \"libx264\",\n",
    "    \"-preset\": \"medium\",\n",
    "    \"-b:v\": \"4500k\",\n",
    "    \"-bufsize\": \"512k\",\n",
    "    \"-pix_fmt\": \"yuv420p\",\n",
    "    \"-f\": \"flv\",\n",
    "}\n",
    "# Define writer with defined parameters\n",
    "writer = WriteGear(\n",
    "    output=\"rtmp://a.rtmp.youtube.com/live2/{}\".format(YOUTUBE_STREAM_KEY),\n",
    "    logging=True,\n",
    "    **output_params\n",
    ")\n",
    "lock = threading.Lock()\n",
    "def sendFrameToStream(frame, model_thread):\n",
    "    while(model_thread.is_alive()):\n",
    "        lock.acquire()\n",
    "        writer.write(frame)\n",
    "        lock.release()"
   ]
  },
  {
   "cell_type": "code",
   "execution_count": 11,
   "id": "3c278483",
   "metadata": {},
   "outputs": [],
   "source": [
    "def model_image(frame):\n",
    "    \"\"\"\n",
    "    Takes an image frame and returns the traffic count in the frame \n",
    "    \"\"\"\n",
    "    results = model(frame)\n",
    "    #Retrieving boundingbox data as dataframe \n",
    "    #Dataframe Format (xyxy attribute):\n",
    "    #(xmin,ymin,xmax,ymax,confidence,label_value,label)\n",
    "    data = results.pandas().xyxy[0]        \n",
    "    trafficType=data[\"name\"]\n",
    "    data = data.iloc[:][:5].to_numpy()\n",
    "    data = data[:,:5].astype('float64')\n",
    "\n",
    "    #Updated with ids on the camera\n",
    "    track_res = tracker.update(data)\n",
    "\n",
    "    if(track_res.size!=0):\n",
    "        for index,detection in enumerate(track_res[::-1]):\n",
    "            #If the detection is new, add the ID to the\n",
    "            #appropriate vehicle/pedestrian set\n",
    "            #COUNT=LENGTH\n",
    "            if(detection[-1] not in ids[trafficType[index]]):\n",
    "                ids[trafficType[index]].add(detection[-1])\n",
    "\n",
    "    #Image WITH BOX PREDICTIONS AND COUNT\n",
    "    im = Image.fromarray(results.render(labels=False)[0])\n",
    "\n",
    "    #Draw the count on the video frame\n",
    "    im_draw = ImageDraw.Draw(im)\n",
    "    draw_text=\"Traffic Counts\\n\"\n",
    "    for trafficType, id_set in ids.items():\n",
    "        draw_text+=trafficType+\"'s counted=\" +str(len(id_set))+\"\\n\"\n",
    "\n",
    "    im_draw.multiline_text((0,\n",
    "                      0), \n",
    "                 draw_text,\n",
    "                 fill='white',font=myFont,\n",
    "                 anchor = None, spacing = 0,\n",
    "                 align=\"left\",direction=None,\n",
    "                 features=None,language=None,\n",
    "                 stroke_width=1, stroke_fill=\"black\")\n",
    "    lock.acquire()\n",
    "    frame = im\n",
    "    lock.release()"
   ]
  },
  {
   "cell_type": "code",
   "execution_count": 15,
   "id": "0fa6d9c9",
   "metadata": {},
   "outputs": [
    {
     "name": "stderr",
     "output_type": "stream",
     "text": [
      "\u001b[32m22:24:10\u001b[0m :: \u001b[1;35m  WriteGear  \u001b[0m :: \u001b[1;33m DEBUG  \u001b[0m :: \u001b[1;37mInputFrame => Height:480 Width:640 Channels:3 Datatype:uint8\u001b[0m\n",
      "\u001b[32m22:24:10\u001b[0m :: \u001b[1;35m  WriteGear  \u001b[0m :: \u001b[1;33m DEBUG  \u001b[0m :: \u001b[1;37mExecuting FFmpeg command: `ffmpeg -y -f rawvideo -vcodec rawvideo -s 640x480 -pix_fmt bgr24 -i - -f lavfi -i anullsrc -vcodec libx264 -preset medium -b:v 4500k -bufsize 512k -pix_fmt yuv420p -f flv -crf 18 rtmp://a.rtmp.youtube.com/live2/1szm-jm2t-m45s-ygw9-1rbx`\u001b[0m\n",
      "ffmpeg version 4.2.7-0ubuntu0.1 Copyright (c) 2000-2022 the FFmpeg developers\n",
      "  built with gcc 9 (Ubuntu 9.4.0-1ubuntu1~20.04.1)\n",
      "  configuration: --prefix=/usr --extra-version=0ubuntu0.1 --toolchain=hardened --libdir=/usr/lib/x86_64-linux-gnu --incdir=/usr/include/x86_64-linux-gnu --arch=amd64 --enable-gpl --disable-stripping --enable-avresample --disable-filter=resample --enable-avisynth --enable-gnutls --enable-ladspa --enable-libaom --enable-libass --enable-libbluray --enable-libbs2b --enable-libcaca --enable-libcdio --enable-libcodec2 --enable-libflite --enable-libfontconfig --enable-libfreetype --enable-libfribidi --enable-libgme --enable-libgsm --enable-libjack --enable-libmp3lame --enable-libmysofa --enable-libopenjpeg --enable-libopenmpt --enable-libopus --enable-libpulse --enable-librsvg --enable-librubberband --enable-libshine --enable-libsnappy --enable-libsoxr --enable-libspeex --enable-libssh --enable-libtheora --enable-libtwolame --enable-libvidstab --enable-libvorbis --enable-libvpx --enable-libwavpack --enable-libwebp --enable-libx265 --enable-libxml2 --enable-libxvid --enable-libzmq --enable-libzvbi --enable-lv2 --enable-omx --enable-openal --enable-opencl --enable-opengl --enable-sdl2 --enable-libdc1394 --enable-libdrm --enable-libiec61883 --enable-nvenc --enable-chromaprint --enable-frei0r --enable-libx264 --enable-shared\n",
      "  libavutil      56. 31.100 / 56. 31.100\n",
      "  libavcodec     58. 54.100 / 58. 54.100\n",
      "  libavformat    58. 29.100 / 58. 29.100\n",
      "  libavdevice    58.  8.100 / 58.  8.100\n",
      "  libavfilter     7. 57.100 /  7. 57.100\n",
      "  libavresample   4.  0.  0 /  4.  0.  0\n",
      "  libswscale      5.  5.100 /  5.  5.100\n",
      "  libswresample   3.  5.100 /  3.  5.100\n",
      "  libpostproc    55.  5.100 / 55.  5.100\n",
      "Input #0, rawvideo, from 'pipe:':\n",
      "  Duration: N/A, start: 0.000000, bitrate: 184320 kb/s\n",
      "    Stream #0:0: Video: rawvideo (BGR[24] / 0x18524742), bgr24, 640x480, 184320 kb/s, 25 tbr, 25 tbn, 25 tbc\n",
      "Input #1, lavfi, from 'anullsrc':\n",
      "  Duration: N/A, start: 0.000000, bitrate: 705 kb/s\n",
      "    Stream #1:0: Audio: pcm_u8, 44100 Hz, stereo, u8, 705 kb/s\n",
      "Stream mapping:\n",
      "  Stream #0:0 -> #0:0 (rawvideo (native) -> h264 (libx264))\n",
      "  Stream #1:0 -> #0:1 (pcm_u8 (native) -> mp3 (libmp3lame))\n",
      "[libx264 @ 0x563c7b140f40] VBV bufsize set but maxrate unspecified, ignored\n",
      "[libx264 @ 0x563c7b140f40] using cpu capabilities: MMX2 SSE2Fast SSSE3 SSE4.2 AVX FMA3 BMI2 AVX2\n",
      "[libx264 @ 0x563c7b140f40] profile High, level 3.0\n",
      "[libx264 @ 0x563c7b140f40] 264 - core 155 r2917 0a84d98 - H.264/MPEG-4 AVC codec - Copyleft 2003-2018 - http://www.videolan.org/x264.html - options: cabac=1 ref=3 deblock=1:0:0 analyse=0x3:0x113 me=hex subme=7 psy=1 psy_rd=1.00:0.00 mixed_ref=1 me_range=16 chroma_me=1 trellis=1 8x8dct=1 cqm=0 deadzone=21,11 fast_pskip=1 chroma_qp_offset=-2 threads=12 lookahead_threads=2 sliced_threads=0 nr=0 decimate=1 interlaced=0 bluray_compat=0 constrained_intra=0 bframes=3 b_pyramid=2 b_adapt=1 b_bias=0 direct=1 weightb=1 open_gop=0 weightp=2 keyint=250 keyint_min=25 scenecut=40 intra_refresh=0 rc_lookahead=40 rc=crf mbtree=1 crf=18.0 qcomp=0.60 qpmin=0 qpmax=69 qpstep=4 ip_ratio=1.40 aq=1:1.00\n",
      "Output #0, flv, to 'rtmp://a.rtmp.youtube.com/live2/1szm-jm2t-m45s-ygw9-1rbx':\n",
      "  Metadata:\n",
      "    encoder         : Lavf58.29.100\n",
      "    Stream #0:0: Video: h264 (libx264) ([7][0][0][0] / 0x0007), yuv420p(progressive), 640x480, q=-1--1, 4500 kb/s, 25 fps, 1k tbn, 25 tbc\n",
      "    Metadata:\n",
      "      encoder         : Lavc58.54.100 libx264\n",
      "    Side data:\n",
      "      cpb: bitrate max/min/avg: 0/0/4500000 buffer size: 512000 vbv_delay: -1\n",
      "    Stream #0:1: Audio: mp3 (libmp3lame) ([2][0][0][0] / 0x0002), 44100 Hz, stereo, s16p\n",
      "    Metadata:\n",
      "      encoder         : Lavc58.54.100 libmp3lame\n",
      "[rawvideo @ 0x563c7b12ca00] Thread message queue blocking; consider raising the thread_queue_size option (current value: 8)\n",
      "frame=75695 fps=110 q=23.0 size=  117465kB time=00:50:25.47 bitrate= 318.1kbits/s speed=4.39x    x    \r"
     ]
    },
    {
     "ename": "KeyboardInterrupt",
     "evalue": "",
     "output_type": "error",
     "traceback": [
      "\u001b[0;31m---------------------------------------------------------------------------\u001b[0m",
      "\u001b[0;31mKeyboardInterrupt\u001b[0m                         Traceback (most recent call last)",
      "Cell \u001b[0;32mIn [15], line 17\u001b[0m\n\u001b[1;32m     13\u001b[0m thread2 \u001b[38;5;241m=\u001b[39m threading\u001b[38;5;241m.\u001b[39mThread(target\u001b[38;5;241m=\u001b[39msendFrameToStream, kwargs\u001b[38;5;241m=\u001b[39m{\u001b[38;5;124m'\u001b[39m\u001b[38;5;124mframe\u001b[39m\u001b[38;5;124m'\u001b[39m:frame, \u001b[38;5;124m'\u001b[39m\u001b[38;5;124mmodel_thread\u001b[39m\u001b[38;5;124m'\u001b[39m:thread1})\n\u001b[1;32m     14\u001b[0m thread2\u001b[38;5;241m.\u001b[39mstart()\n\u001b[0;32m---> 17\u001b[0m \u001b[43mthread1\u001b[49m\u001b[38;5;241;43m.\u001b[39;49m\u001b[43mjoin\u001b[49m\u001b[43m(\u001b[49m\u001b[43m)\u001b[49m\n\u001b[1;32m     18\u001b[0m thread2\u001b[38;5;241m.\u001b[39mjoin()\n",
      "File \u001b[0;32m/usr/lib/python3.8/threading.py:1011\u001b[0m, in \u001b[0;36mThread.join\u001b[0;34m(self, timeout)\u001b[0m\n\u001b[1;32m   1008\u001b[0m     \u001b[38;5;28;01mraise\u001b[39;00m \u001b[38;5;167;01mRuntimeError\u001b[39;00m(\u001b[38;5;124m\"\u001b[39m\u001b[38;5;124mcannot join current thread\u001b[39m\u001b[38;5;124m\"\u001b[39m)\n\u001b[1;32m   1010\u001b[0m \u001b[38;5;28;01mif\u001b[39;00m timeout \u001b[38;5;129;01mis\u001b[39;00m \u001b[38;5;28;01mNone\u001b[39;00m:\n\u001b[0;32m-> 1011\u001b[0m     \u001b[38;5;28;43mself\u001b[39;49m\u001b[38;5;241;43m.\u001b[39;49m\u001b[43m_wait_for_tstate_lock\u001b[49m\u001b[43m(\u001b[49m\u001b[43m)\u001b[49m\n\u001b[1;32m   1012\u001b[0m \u001b[38;5;28;01melse\u001b[39;00m:\n\u001b[1;32m   1013\u001b[0m     \u001b[38;5;66;03m# the behavior of a negative timeout isn't documented, but\u001b[39;00m\n\u001b[1;32m   1014\u001b[0m     \u001b[38;5;66;03m# historically .join(timeout=x) for x<0 has acted as if timeout=0\u001b[39;00m\n\u001b[1;32m   1015\u001b[0m     \u001b[38;5;28mself\u001b[39m\u001b[38;5;241m.\u001b[39m_wait_for_tstate_lock(timeout\u001b[38;5;241m=\u001b[39m\u001b[38;5;28mmax\u001b[39m(timeout, \u001b[38;5;241m0\u001b[39m))\n",
      "File \u001b[0;32m/usr/lib/python3.8/threading.py:1027\u001b[0m, in \u001b[0;36mThread._wait_for_tstate_lock\u001b[0;34m(self, block, timeout)\u001b[0m\n\u001b[1;32m   1025\u001b[0m \u001b[38;5;28;01mif\u001b[39;00m lock \u001b[38;5;129;01mis\u001b[39;00m \u001b[38;5;28;01mNone\u001b[39;00m:  \u001b[38;5;66;03m# already determined that the C code is done\u001b[39;00m\n\u001b[1;32m   1026\u001b[0m     \u001b[38;5;28;01massert\u001b[39;00m \u001b[38;5;28mself\u001b[39m\u001b[38;5;241m.\u001b[39m_is_stopped\n\u001b[0;32m-> 1027\u001b[0m \u001b[38;5;28;01melif\u001b[39;00m \u001b[43mlock\u001b[49m\u001b[38;5;241;43m.\u001b[39;49m\u001b[43macquire\u001b[49m\u001b[43m(\u001b[49m\u001b[43mblock\u001b[49m\u001b[43m,\u001b[49m\u001b[43m \u001b[49m\u001b[43mtimeout\u001b[49m\u001b[43m)\u001b[49m:\n\u001b[1;32m   1028\u001b[0m     lock\u001b[38;5;241m.\u001b[39mrelease()\n\u001b[1;32m   1029\u001b[0m     \u001b[38;5;28mself\u001b[39m\u001b[38;5;241m.\u001b[39m_stop()\n",
      "\u001b[0;31mKeyboardInterrupt\u001b[0m: "
     ]
    }
   ],
   "source": [
    "# loop over\n",
    "while True:\n",
    "\n",
    "    # read frames from stream\n",
    "    frame = stream.read()\n",
    "    # check for frame if Nonetype\n",
    "    if frame is None:\n",
    "        break\n",
    "    \n",
    "    \n",
    "    thread1 = threading.Thread(target=model_image, kwargs={'frame':frame})\n",
    "    thread1.start()\n",
    "    thread2 = threading.Thread(target=sendFrameToStream, kwargs={'frame':frame, 'model_thread':thread1})\n",
    "    thread2.start()\n",
    "    \n",
    "    \n",
    "    thread1.join()\n",
    "    thread2.join()\n"
   ]
  },
  {
   "cell_type": "code",
   "execution_count": 16,
   "id": "17ce9b5e",
   "metadata": {},
   "outputs": [
    {
     "name": "stderr",
     "output_type": "stream",
     "text": [
      "\u001b[32m22:35:51\u001b[0m :: \u001b[1;35m   CamGear   \u001b[0m :: \u001b[1;33m DEBUG  \u001b[0m :: \u001b[1;37mTerminating processes.\u001b[0m\n",
      "\u001b[32m22:35:51\u001b[0m :: \u001b[1;35m  WriteGear  \u001b[0m :: \u001b[1;33m DEBUG  \u001b[0m :: \u001b[1;37mTerminating WriteGear Processes.\u001b[0m\n"
     ]
    }
   ],
   "source": [
    "# safely close video stream\n",
    "stream.stop()\n",
    "\n",
    "# safely close writer\n",
    "writer.close()"
   ]
  },
  {
   "cell_type": "code",
   "execution_count": 23,
   "id": "0942abeb",
   "metadata": {},
   "outputs": [
    {
     "ename": "DefaultCredentialsError",
     "evalue": "Could not automatically determine credentials. Please set GOOGLE_APPLICATION_CREDENTIALS or explicitly create credentials and re-run the application. For more information, please see https://cloud.google.com/docs/authentication/getting-started",
     "output_type": "error",
     "traceback": [
      "\u001b[0;31m---------------------------------------------------------------------------\u001b[0m",
      "\u001b[0;31mDefaultCredentialsError\u001b[0m                   Traceback (most recent call last)",
      "Cell \u001b[0;32mIn [23], line 34\u001b[0m\n\u001b[1;32m     30\u001b[0m         \u001b[38;5;28mprint\u001b[39m(\u001b[38;5;124mf\u001b[39m\u001b[38;5;124m\"\u001b[39m\u001b[38;5;124mAn error occurred: \u001b[39m\u001b[38;5;132;01m{\u001b[39;00merror\u001b[38;5;132;01m}\u001b[39;00m\u001b[38;5;124m\"\u001b[39m)\n\u001b[1;32m     31\u001b[0m         \u001b[38;5;28;01mreturn\u001b[39;00m error\n\u001b[0;32m---> 34\u001b[0m \u001b[43mcreate\u001b[49m\u001b[43m(\u001b[49m\u001b[38;5;124;43m\"\u001b[39;49m\u001b[38;5;124;43msmartTrafficCameraCarData\u001b[39;49m\u001b[38;5;124;43m\"\u001b[39;49m\u001b[43m)\u001b[49m\n",
      "Cell \u001b[0;32mIn [23], line 15\u001b[0m, in \u001b[0;36mcreate\u001b[0;34m(title)\u001b[0m\n\u001b[1;32m      8\u001b[0m \u001b[38;5;28;01mdef\u001b[39;00m \u001b[38;5;21mcreate\u001b[39m(title):\n\u001b[1;32m      9\u001b[0m     \u001b[38;5;124;03m\"\"\"\u001b[39;00m\n\u001b[1;32m     10\u001b[0m \u001b[38;5;124;03m    Creates the Sheet the user has access to.\u001b[39;00m\n\u001b[1;32m     11\u001b[0m \u001b[38;5;124;03m    Load pre-authorized user credentials from the environment.\u001b[39;00m\n\u001b[1;32m     12\u001b[0m \u001b[38;5;124;03m    TODO(developer) - See https://developers.google.com/identity\u001b[39;00m\n\u001b[1;32m     13\u001b[0m \u001b[38;5;124;03m    for guides on implementing OAuth2 for the application.\u001b[39;00m\n\u001b[1;32m     14\u001b[0m \u001b[38;5;124;03m        \"\"\"\u001b[39;00m\n\u001b[0;32m---> 15\u001b[0m     creds, _ \u001b[38;5;241m=\u001b[39m \u001b[43mgoogle\u001b[49m\u001b[38;5;241;43m.\u001b[39;49m\u001b[43mauth\u001b[49m\u001b[38;5;241;43m.\u001b[39;49m\u001b[43mdefault\u001b[49m\u001b[43m(\u001b[49m\u001b[43m)\u001b[49m\n\u001b[1;32m     16\u001b[0m     \u001b[38;5;66;03m# pylint: disable=maybe-no-member\u001b[39;00m\n\u001b[1;32m     17\u001b[0m     \u001b[38;5;28;01mtry\u001b[39;00m:\n",
      "File \u001b[0;32m~/.local/lib/python3.8/site-packages/google/auth/_default.py:646\u001b[0m, in \u001b[0;36mdefault\u001b[0;34m(scopes, request, quota_project_id, default_scopes)\u001b[0m\n\u001b[1;32m    638\u001b[0m             _LOGGER\u001b[38;5;241m.\u001b[39mwarning(\n\u001b[1;32m    639\u001b[0m                 \u001b[38;5;124m\"\u001b[39m\u001b[38;5;124mNo project ID could be determined. Consider running \u001b[39m\u001b[38;5;124m\"\u001b[39m\n\u001b[1;32m    640\u001b[0m                 \u001b[38;5;124m\"\u001b[39m\u001b[38;5;124m`gcloud config set project` or setting the \u001b[39m\u001b[38;5;132;01m%s\u001b[39;00m\u001b[38;5;124m \u001b[39m\u001b[38;5;124m\"\u001b[39m\n\u001b[1;32m    641\u001b[0m                 \u001b[38;5;124m\"\u001b[39m\u001b[38;5;124menvironment variable\u001b[39m\u001b[38;5;124m\"\u001b[39m,\n\u001b[1;32m    642\u001b[0m                 environment_vars\u001b[38;5;241m.\u001b[39mPROJECT,\n\u001b[1;32m    643\u001b[0m             )\n\u001b[1;32m    644\u001b[0m         \u001b[38;5;28;01mreturn\u001b[39;00m credentials, effective_project_id\n\u001b[0;32m--> 646\u001b[0m \u001b[38;5;28;01mraise\u001b[39;00m exceptions\u001b[38;5;241m.\u001b[39mDefaultCredentialsError(_HELP_MESSAGE)\n",
      "\u001b[0;31mDefaultCredentialsError\u001b[0m: Could not automatically determine credentials. Please set GOOGLE_APPLICATION_CREDENTIALS or explicitly create credentials and re-run the application. For more information, please see https://cloud.google.com/docs/authentication/getting-started"
     ]
    }
   ],
   "source": [
    "from __future__ import print_function\n",
    "\n",
    "import google.auth\n",
    "from googleapiclient.discovery import build\n",
    "from googleapiclient.errors import HttpError\n",
    "\n",
    "\n",
    "def create(title):\n",
    "    \"\"\"\n",
    "    Creates the Sheet the user has access to.\n",
    "    Load pre-authorized user credentials from the environment.\n",
    "    TODO(developer) - See https://developers.google.com/identity\n",
    "    for guides on implementing OAuth2 for the application.\n",
    "        \"\"\"\n",
    "    creds, _ = google.auth.default()\n",
    "    # pylint: disable=maybe-no-member\n",
    "    try:\n",
    "        service = build('sheets', 'v4', credentials=creds)\n",
    "        spreadsheet = {\n",
    "            'properties': {\n",
    "                'title': title\n",
    "            }\n",
    "        }\n",
    "        spreadsheet = service.spreadsheets().create(body=spreadsheet,\n",
    "                                                    fields='spreadsheetId') \\\n",
    "            .execute()\n",
    "        print(f\"Spreadsheet ID: {(spreadsheet.get('spreadsheetId'))}\")\n",
    "        return spreadsheet.get('spreadsheetId')\n",
    "    except HttpError as error:\n",
    "        print(f\"An error occurred: {error}\")\n",
    "        return error\n",
    "\n",
    "\n",
    "create(\"smartTrafficCameraCarData\")"
   ]
  },
  {
   "cell_type": "code",
   "execution_count": null,
   "id": "784fbeca",
   "metadata": {},
   "outputs": [],
   "source": [
    "from google.cloud import storage\n",
    "\n",
    "\n",
    "def authenticate_implicit_with_adc(project_id=\"your-google-cloud-project-id\"):\n",
    "    \"\"\"\n",
    "    When interacting with Google Cloud Client libraries, the library can auto-detect the\n",
    "    credentials to use.\n",
    "\n",
    "    // TODO(Developer):\n",
    "    //  1. Before running this sample,\n",
    "    //  set up ADC as described in https://cloud.google.com/docs/authentication/external/set-up-adc\n",
    "    //  2. Replace the project variable.\n",
    "    //  3. Make sure that the user account or service account that you are using\n",
    "    //  has the required permissions. For this sample, you must have \"storage.buckets.list\".\n",
    "    Args:\n",
    "        project_id: The project id of your Google Cloud project.\n",
    "    \"\"\"\n",
    "\n",
    "    # This snippet demonstrates how to list buckets.\n",
    "    # *NOTE*: Replace the client created below with the client required for your application.\n",
    "    # Note that the credentials are not specified when constructing the client.\n",
    "    # Hence, the client library will look for credentials using ADC.\n",
    "    storage_client = storage.Client(project=project_id)\n",
    "    buckets = storage_client.list_buckets()\n",
    "    print(\"Buckets:\")\n",
    "    for bucket in buckets:\n",
    "        print(bucket.name)\n",
    "    print(\"Listed all storage buckets.\")\n"
   ]
  }
 ],
 "metadata": {
  "kernelspec": {
   "display_name": "Python 3 (ipykernel)",
   "language": "python",
   "name": "python3"
  },
  "language_info": {
   "codemirror_mode": {
    "name": "ipython",
    "version": 3
   },
   "file_extension": ".py",
   "mimetype": "text/x-python",
   "name": "python",
   "nbconvert_exporter": "python",
   "pygments_lexer": "ipython3",
   "version": "3.8.10"
  }
 },
 "nbformat": 4,
 "nbformat_minor": 5
}
