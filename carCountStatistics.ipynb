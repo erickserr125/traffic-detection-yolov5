{
 "cells": [
  {
   "cell_type": "code",
   "execution_count": 30,
   "id": "54708f64",
   "metadata": {},
   "outputs": [
    {
     "name": "stderr",
     "output_type": "stream",
     "text": [
      "YOLOv5 🚀 163666e80 Python-3.8.10 torch-1.13.0+cu117 CPU\n",
      "\n",
      "Fusing layers... \n",
      "Model summary: 212 layers, 20893344 parameters, 0 gradients\n",
      "Adding AutoShape... \n"
     ]
    }
   ],
   "source": [
    "\"\"\"\n",
    "In this script, we will\n",
    "\"\"\"\n",
    "\n",
    "import torch \n",
    "import cv2\n",
    "import numpy as np\n",
    "import pandas as pd\n",
    "from sort import sort\n",
    "from time import time\n",
    "from collections import defaultdict\n",
    "\n",
    "\n",
    "from os import listdir\n",
    "\n",
    "\"\"\"\n",
    "Load the model with a certain confidence threshold (TBD)\n",
    "\"\"\"\n",
    "model = torch.hub.load('.','custom','best.pt',source='local')"
   ]
  },
  {
   "cell_type": "code",
   "execution_count": 31,
   "id": "301268e9",
   "metadata": {},
   "outputs": [],
   "source": [
    "model.conf = .27 #Minimum .5 confidence threshold"
   ]
  },
  {
   "cell_type": "code",
   "execution_count": 32,
   "id": "8761d7e9",
   "metadata": {},
   "outputs": [],
   "source": [
    "\"\"\"\n",
    "Initializing values for tracking and video capture:\n",
    "\"\"\"\n",
    "frameRate = 0\n",
    "time_limit = 5#Seconds\n",
    "image_frames = []\n",
    "\n",
    "\n",
    "#7 days, each index contains new carCount \n",
    "countDay = [None]*7\n",
    "#24 Hours, each index contains new carCount\n",
    "countHour = [None]*24\n",
    "#Key:Value = carType: carTypeCount\n",
    "carCount =defaultdict(int)\n",
    "\n",
    "frame_count = 0\n",
    "hourIndex = 0\n",
    "dayIndex = 0"
   ]
  },
  {
   "cell_type": "code",
   "execution_count": null,
   "id": "8d169946",
   "metadata": {},
   "outputs": [],
   "source": [
    "\"\"\"\n",
    "USE FOR TESTING IF NEEDED:\n",
    "\"\"\"\n",
    "path = \"data/localization/test/\"\n",
    "images = listdir(path+\"images/\")\n",
    "images = [path+\"images/\"+image for image in images]\n",
    "videos = listdir(path+\"videos/\")\n",
    "videos = [path+\"videos/\"+video for video in videos]\n",
    "\n",
    "for video in videos:\n",
    "    print(\"Currently processing new video \")\n",
    "    tracker=sort.Sort()\n",
    "    #Store tracking info per video\n",
    "    ids = defaultdict(set)\n",
    "    carCount = defaultdict(int)\n",
    "    frame_count = 0\n",
    "    \n",
    "    start_time = time()\n",
    "    vid = cv2.VideoCapture(video)\n",
    "    ret,frame = vid.read()\n",
    "    \n",
    "    frame_count+=1\n",
    "    #Set number of frames to look at for testing purposes\n",
    "    while(ret):\n",
    "        frame = cv2.cvtColor(frame, cv2.COLOR_BGR2RGBA)\n",
    "        results = model(frame)\n",
    "        #Retrieving boundingbox data as dataframe \n",
    "        #Dataframe Format (xyxy attribute):\n",
    "        #(xmin,ymin,xmax,ymax,confidence,label_value,label)\n",
    "        data = results.pandas().xyxy[0]        \n",
    "        trafficType=data[\"name\"]\n",
    "        data = data.iloc[:][:5].to_numpy()\n",
    "        data = data[:,:5].astype('float64')\n",
    "\n",
    "\n",
    "        #Updated with ids on the camera\n",
    "        track_res = tracker.update(data)\n",
    "\n",
    "        if(track_res.size!=0):\n",
    "            for index,detection in enumerate(track_res[::-1]):\n",
    "                #If the detection is new, add the ID to the\n",
    "                #appropriate vehicle/pedestrian set\n",
    "                if(detection[-1] not in ids[trafficType[index]]):\n",
    "                    ids[trafficType[index]].add(detection[-1])\n",
    "                    carCount[trafficType[index]] += 1\n",
    "\n",
    "        time_elaps = time()-start_time\n",
    "\n",
    "        if(time_elaps>time_limit):\n",
    "            frameRate = frame_count/(time_elaps)\n",
    "            break\n",
    "\n",
    "        ret, frame = vid.read()\n",
    "        frame_count +=1\n",
    "\n",
    "    vid.release()\n",
    "\n",
    "    print(\"Frame rate: \",frameRate)\n",
    "    print(carCount)\n",
    "    print(\"Time elapsed:\", time()-start_time)"
   ]
  },
  {
   "cell_type": "code",
   "execution_count": 37,
   "id": "0f41ebba",
   "metadata": {},
   "outputs": [
    {
     "name": "stdout",
     "output_type": "stream",
     "text": [
      "Frame rate:  0.0\n",
      "defaultdict(<class 'int'>, {'car': 7, 'motorized_vehicle': 1})\n"
     ]
    }
   ],
   "source": [
    "\"\"\"\n",
    "TODO: SETUP PER HOUR & PER DAY SCRIPT\n",
    "\n",
    "setupFPS count\n",
    "\"\"\"\n",
    "\n",
    "start_time = time()\n",
    "#Set number of frames to look at for testing purposes\n",
    "while(ret):\n",
    "    frame = cv2.cvtColor(frame, cv2.COLOR_BGR2RGBA)\n",
    "    results = model(frame)\n",
    "    #Retrieving boundingbox data as dataframe \n",
    "    #Dataframe Format (xyxy attribute):\n",
    "    #(xmin,ymin,xmax,ymax,confidence,label_value,label)\n",
    "    data = results.pandas().xyxy[0]        \n",
    "    trafficType=data[\"name\"]\n",
    "    data = data.iloc[:][:5].to_numpy()\n",
    "    data = data[:,:5].astype('float64')\n",
    "\n",
    "\n",
    "    #Updated with ids on the camera\n",
    "    track_res = tracker.update(data)\n",
    "\n",
    "    if(track_res.size!=0):\n",
    "        for index,detection in enumerate(track_res[::-1]):\n",
    "            #If the detection is new, add the ID to the\n",
    "            #appropriate vehicle/pedestrian set\n",
    "            if(detection[-1] not in ids[trafficType[index]]):\n",
    "                ids[trafficType[index]].add(detection[-1])\n",
    "                carCount[trafficType[index]] += 1\n",
    "\n",
    "    time_elaps = time()-start_time\n",
    "    if(time_elaps>time_limit):\n",
    "        frameRate = len(image_frames)/(time_elaps)\n",
    "        break\n",
    "    ret, frame = vid.read()\n",
    "\n",
    "vid.release()\n",
    "    \n",
    "print(\"Frame rate: \",frameRate)\n",
    "print(carCount)"
   ]
  },
  {
   "cell_type": "code",
   "execution_count": null,
   "id": "21150c73",
   "metadata": {},
   "outputs": [],
   "source": []
  }
 ],
 "metadata": {
  "kernelspec": {
   "display_name": "Python 3 (ipykernel)",
   "language": "python",
   "name": "python3"
  },
  "language_info": {
   "codemirror_mode": {
    "name": "ipython",
    "version": 3
   },
   "file_extension": ".py",
   "mimetype": "text/x-python",
   "name": "python",
   "nbconvert_exporter": "python",
   "pygments_lexer": "ipython3",
   "version": "3.8.10"
  }
 },
 "nbformat": 4,
 "nbformat_minor": 5
}
